{
 "cells": [
  {
   "cell_type": "markdown",
   "metadata": {},
   "source": [
    "# Tugas 3"
   ]
  },
  {
   "cell_type": "code",
   "execution_count": 1,
   "metadata": {},
   "outputs": [
    {
     "name": "stdout",
     "output_type": "stream",
     "text": [
      "[[1 2 4]\n",
      " [2 3 6]\n",
      " [3 1 5]]\n",
      "[[2 3]\n",
      " [4 6]\n",
      " [4 2]]\n"
     ]
    }
   ],
   "source": [
    "import numpy as np\n",
    "A = np.array ([[1,2,4],[2,3,6],[3,1,5]])\n",
    "B = np.array ([[1,4,6],[4,2,8],[6,2,4]])\n",
    "C = np.array ([[2,3],[4,6],[4,2]])\n",
    "D = np.array ([[2,4,5],[3,6,8],[5,4,9]])\n",
    "\n",
    "print(A)\n",
    "print(C)"
   ]
  },
  {
   "cell_type": "code",
   "execution_count": 2,
   "metadata": {},
   "outputs": [
    {
     "name": "stdout",
     "output_type": "stream",
     "text": [
      "[[4 3 6]\n",
      " [4 3 9]\n",
      " [7 7 3]]\n"
     ]
    }
   ],
   "source": [
    "#cara cepat untuk mengalikan matrix dengan nilai random\n",
    "A =np.random.randint(10,size=(3,3))\n",
    "print(A)"
   ]
  },
  {
   "cell_type": "markdown",
   "metadata": {},
   "source": [
    "Operasi-operasi Matrik\n"
   ]
  },
  {
   "cell_type": "markdown",
   "metadata": {},
   "source": [
    "1) Matriks dalam bentuk apapun dapat dikalikan dengan skalar c, d."
   ]
  },
  {
   "cell_type": "code",
   "execution_count": 3,
   "metadata": {},
   "outputs": [
    {
     "name": "stdout",
     "output_type": "stream",
     "text": [
      "e = 6\n",
      "G = [[ 6 12 24]\n",
      " [12 18 36]\n",
      " [18  6 30]]\n",
      "H = [[ 6 12 24]\n",
      " [12 18 36]\n",
      " [18  6 30]]\n"
     ]
    }
   ],
   "source": [
    "import numpy as np\n",
    "A = np.array ([[1,2,4],[2,3,6],[3,1,5]])\n",
    "B = np.array ([[1,4,6],[4,2,8],[6,2,4]])\n",
    "c = 2\n",
    "d = 4\n",
    "e = c + d\n",
    "G = (c+d)*A\n",
    "H = (c*A) + (d*A)\n",
    "print('e =', e)\n",
    "print('G =', G)\n",
    "print('H =', H)"
   ]
  },
  {
   "cell_type": "markdown",
   "metadata": {},
   "source": [
    "2. Matriks yang ukurannya sama bisa dijumlahkan. \n",
    "\n",
    "Hasilnya adalah semua elemen yang bersesuaian dan ditambah dalam bentuk."
   ]
  },
  {
   "cell_type": "code",
   "execution_count": 4,
   "metadata": {},
   "outputs": [
    {
     "name": "stdout",
     "output_type": "stream",
     "text": [
      "K = [[ 2  6 10]\n",
      " [ 6  5 14]\n",
      " [ 9  3  9]]\n"
     ]
    }
   ],
   "source": [
    "K = A + B\n",
    "#L = A + C\n",
    "print('K =', K)\n",
    "#print('L =', L)"
   ]
  },
  {
   "cell_type": "markdown",
   "metadata": {},
   "source": [
    "3. Jika banyaknya kolom dari matrix A adalah sama dengan banyaknya baris matrik B, maka kedua matrik dapat dikalikan dalam bentuk perkalian A,B. Dengan jumlah baris yang mengikuti matriks A dan kolom mengikuti matriks B."
   ]
  },
  {
   "cell_type": "code",
   "execution_count": null,
   "metadata": {},
   "outputs": [],
   "source": [
    "#Cara menentukan ukuran matriks:\n",
    "#  namamatriks.shape\n",
    "print(C.shape)\n",
    "\n",
    "#Cara menentukan jumlah baris:\n",
    "#  namamatriks.shape[0]\n",
    "print(C.shape[0])\n",
    "\n",
    "#Cara menentukan jumlah kolom:\n",
    "#  namamatriks.shape[1]\n",
    "print(C.shape[1])"
   ]
  },
  {
   "cell_type": "code",
   "execution_count": 7,
   "metadata": {},
   "outputs": [
    {
     "data": {
      "text/plain": [
       "3"
      ]
     },
     "execution_count": 7,
     "metadata": {},
     "output_type": "execute_result"
    }
   ],
   "source": [
    "(2, 3)\n",
    "2\n",
    "3"
   ]
  },
  {
   "cell_type": "code",
   "execution_count": 8,
   "metadata": {},
   "outputs": [
    {
     "name": "stdout",
     "output_type": "stream",
     "text": [
      "[[ 1  8 24]\n",
      " [ 8  6 48]\n",
      " [18  2 20]]\n"
     ]
    }
   ],
   "source": [
    "print(A*B)"
   ]
  },
  {
   "cell_type": "code",
   "execution_count": 9,
   "metadata": {},
   "outputs": [
    {
     "name": "stdout",
     "output_type": "stream",
     "text": [
      "[[33 16 38]\n",
      " [50 26 60]\n",
      " [37 24 46]]\n"
     ]
    }
   ],
   "source": [
    "print(A@B)"
   ]
  },
  {
   "cell_type": "markdown",
   "metadata": {},
   "source": [
    "Matriks Tranpose"
   ]
  },
  {
   "cell_type": "markdown",
   "metadata": {},
   "source": [
    "(Baris jadi kolom, dan sebaliknya) Transpose matriks A……\n",
    "\n",
    "note : Matriks Covarian adalah matriks awal dikali matriks transposenya."
   ]
  },
  {
   "cell_type": "code",
   "execution_count": 11,
   "metadata": {},
   "outputs": [
    {
     "name": "stdout",
     "output_type": "stream",
     "text": [
      "[[1 2 4]\n",
      " [2 3 6]\n",
      " [3 1 5]]\n",
      "\n",
      "\n",
      "[[1 2 3]\n",
      " [2 3 1]\n",
      " [4 6 5]]\n"
     ]
    }
   ],
   "source": [
    "A = np.array ([[1,2,4],[2,3,6],[3,1,5]])\n",
    "\n",
    "A_T = A.transpose()\n",
    "print(A)\n",
    "print('\\n')\n",
    "print(A_T)"
   ]
  },
  {
   "cell_type": "code",
   "execution_count": 15,
   "metadata": {},
   "outputs": [
    {
     "name": "stdout",
     "output_type": "stream",
     "text": [
      "[[2 3]\n",
      " [4 6]\n",
      " [4 2]]\n",
      "\n",
      "\n",
      "[[2 4 4]\n",
      " [3 6 2]]\n"
     ]
    }
   ],
   "source": [
    "C = np.array ([[2,3],[4,6],[4,2]])\n",
    "\n",
    "C_T = C.transpose()\n",
    "print(C)\n",
    "print('\\n')\n",
    "print(C_T)"
   ]
  },
  {
   "cell_type": "code",
   "execution_count": 16,
   "metadata": {},
   "outputs": [
    {
     "name": "stdout",
     "output_type": "stream",
     "text": [
      "[[  2  32 120]\n",
      " [ 24  36 384]\n",
      " [ 90   8 180]]\n",
      " \n",
      "[[  2  24  90]\n",
      " [ 32  36   8]\n",
      " [120 384 180]]\n",
      " \n",
      " \n",
      "[[  2  24  90]\n",
      " [ 32  36   8]\n",
      " [120 384 180]]\n",
      " \n",
      " \n",
      "[[ 72  97  72]\n",
      " [ 84 110  90]\n",
      " [148 196 150]]\n",
      " \n",
      " \n",
      "[[68 88 66]\n",
      " [62 76 63]]\n"
     ]
    }
   ],
   "source": [
    "import numpy as np\n",
    "\n",
    "A = np.array([[1, 2, 4], [2, 3, 6], [3, 1, 5]])\n",
    "B = np.array([[1, 4, 6], [4, 2, 8], [6, 2, 4]])\n",
    "C = np.array([[2, 3], [4, 6], [4, 2]])\n",
    "D = np.array([[2, 4, 5], [3, 6, 8], [5, 4, 9]])\n",
    "\n",
    "# Perkalian elemen demi elemen dari matriks A, B, dan D\n",
    "t = A * B * D\n",
    "print(t)\n",
    "print(\" \")\n",
    "\n",
    "# Transpose dari matriks t\n",
    "tt = t.transpose()\n",
    "print(tt)\n",
    "print(\" \")\n",
    "print(\" \")\n",
    "\n",
    "# Perkalian elemen demi elemen dari transpose matriks A, B, dan D\n",
    "a = A.transpose()\n",
    "b = B.transpose()\n",
    "dd = D.transpose()\n",
    "print(a * b * dd)\n",
    "print(\" \")\n",
    "print(\" \")\n",
    "\n",
    "# (A+B)*D\n",
    "abd = np.dot((A + B), D)\n",
    "ABD = abd.transpose()\n",
    "print(ABD)\n",
    "print(\" \")\n",
    "print(\" \")\n",
    "\n",
    "# (A+B)*C\n",
    "abc = np.dot((A + B), C)\n",
    "ABC = abc.transpose()\n",
    "print(ABC)\n"
   ]
  },
  {
   "cell_type": "markdown",
   "metadata": {},
   "source": [
    "Matriks Elementer"
   ]
  },
  {
   "cell_type": "markdown",
   "metadata": {},
   "source": [
    "R_3 - 7*R_1"
   ]
  },
  {
   "cell_type": "markdown",
   "metadata": {},
   "source": [
    "Mengalikan Matriks"
   ]
  },
  {
   "cell_type": "code",
   "execution_count": 19,
   "metadata": {},
   "outputs": [
    {
     "name": "stdout",
     "output_type": "stream",
     "text": [
      "Hasil perkalian matriks A dengan matriks B:\n",
      "[[33 16 38]\n",
      " [50 26 60]\n",
      " [37 24 46]]\n",
      "\n",
      "Hasil perkalian matriks A dengan matriks B, lalu dikalikan dengan matriks C:\n",
      "[[282 271]\n",
      " [444 426]\n",
      " [354 347]]\n",
      "\n",
      "Hasil perkalian matriks A dengan matriks D:\n",
      "[[28 32 57]\n",
      " [43 50 88]\n",
      " [34 38 68]]\n",
      "\n",
      "Hasil perkalian matriks A dan B, lalu hasilnya dikalikan dengan matriks D:\n",
      "[[304 380 635]\n",
      " [478 596 998]\n",
      " [376 476 791]]\n",
      "\n",
      "Hasil alternatif perkalian matriks A dengan matriks B, lalu dikalikan dengan matriks D:\n",
      "[[304 380 635]\n",
      " [478 596 998]\n",
      " [376 476 791]]\n"
     ]
    }
   ],
   "source": [
    "import numpy as np\n",
    "\n",
    "A = np.array([[1, 2, 4], [2, 3, 6], [3, 1, 5]])\n",
    "B = np.array([[1, 4, 6], [4, 2, 8], [6, 2, 4]])\n",
    "C = np.array([[2, 3], [4, 6], [4, 2]])\n",
    "D = np.array([[2, 4, 5], [3, 6, 8], [5, 4, 9]])\n",
    "\n",
    "# Mengalikan matriks A dengan matriks B\n",
    "AB = np.dot(A, B)\n",
    "\n",
    "# Mengalikan matriks AB dengan matriks C\n",
    "ABC = np.dot(AB, C)\n",
    "\n",
    "# Mengalikan matriks A dengan matriks D\n",
    "AD = np.dot(A, D)\n",
    "\n",
    "# Mengalikan matriks AB dengan matriks D\n",
    "ABD = np.dot(AB, D)\n",
    "\n",
    "# Mengalikan matriks A dengan matriks B, lalu hasilnya dikalikan dengan matriks D\n",
    "ABD_alt = np.dot(A, np.dot(B, D))\n",
    "\n",
    "# Menampilkan hasil\n",
    "print(\"Hasil perkalian matriks A dengan matriks B:\")\n",
    "print(AB)\n",
    "print(\"\\nHasil perkalian matriks A dengan matriks B, lalu dikalikan dengan matriks C:\")\n",
    "print(ABC)\n",
    "print(\"\\nHasil perkalian matriks A dengan matriks D:\")\n",
    "print(AD)\n",
    "print(\"\\nHasil perkalian matriks A dan B, lalu hasilnya dikalikan dengan matriks D:\")\n",
    "print(ABD)\n",
    "print(\"\\nHasil alternatif perkalian matriks A dengan matriks B, lalu dikalikan dengan matriks D:\")\n",
    "print(ABD_alt)\n"
   ]
  }
 ],
 "metadata": {
  "kernelspec": {
   "display_name": "Python 3",
   "language": "python",
   "name": "python3"
  },
  "language_info": {
   "codemirror_mode": {
    "name": "ipython",
    "version": 3
   },
   "file_extension": ".py",
   "mimetype": "text/x-python",
   "name": "python",
   "nbconvert_exporter": "python",
   "pygments_lexer": "ipython3",
   "version": "3.10.13"
  }
 },
 "nbformat": 4,
 "nbformat_minor": 2
}
