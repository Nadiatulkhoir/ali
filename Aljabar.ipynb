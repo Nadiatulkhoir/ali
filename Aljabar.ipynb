{
  "nbformat": 4,
  "nbformat_minor": 0,
  "metadata": {
    "colab": {
      "provenance": [],
      "authorship_tag": "ABX9TyPzGCI39eUTGcY/yEln1go/",
      "include_colab_link": true
    },
    "kernelspec": {
      "name": "python3",
      "display_name": "Python 3"
    },
    "language_info": {
      "name": "python"
    }
  },
  "cells": [
    {
      "cell_type": "markdown",
      "metadata": {
        "id": "view-in-github",
        "colab_type": "text"
      },
      "source": [
        "<a href=\"https://colab.research.google.com/github/Nadiatulkhoir/ali/blob/main/Aljabar.ipynb\" target=\"_parent\"><img src=\"https://colab.research.google.com/assets/colab-badge.svg\" alt=\"Open In Colab\"/></a>"
      ]
    },
    {
      "cell_type": "code",
      "execution_count": null,
      "metadata": {
        "colab": {
          "base_uri": "https://localhost:8080/"
        },
        "id": "uuObxuRn7W8u",
        "outputId": "a60311fd-cd9f-4a34-9d2a-721270e26292"
      },
      "outputs": [
        {
          "output_type": "execute_result",
          "data": {
            "text/plain": [
              "3"
            ]
          },
          "metadata": {},
          "execution_count": 10
        }
      ],
      "source": [
        "import numpy as np\n",
        "A = np.array ([[1,2,4],[2,3,6],[3,1,5]])\n",
        "B = np.array ([[1,4,6],[4,2,8],[6,2,4]])\n",
        "C = np.array ([[2,3],[4,6],[4,2]])\n",
        "D = np.array ([[2,4,5],[3,6,8],[5,4,9]])\n",
        "C.shape[0]"
      ]
    },
    {
      "cell_type": "code",
      "source": [
        "A =np.random.randint(10,size=(3,3))\n",
        "print(A)"
      ],
      "metadata": {
        "colab": {
          "base_uri": "https://localhost:8080/"
        },
        "id": "ufjsd6Mi_7Te",
        "outputId": "7995177b-21b6-403b-e90d-d3a848a12af4"
      },
      "execution_count": null,
      "outputs": [
        {
          "output_type": "stream",
          "name": "stdout",
          "text": [
            "[[3 4 5]\n",
            " [9 8 1]\n",
            " [8 6 7]]\n"
          ]
        }
      ]
    },
    {
      "cell_type": "code",
      "source": [
        "import numpy as np\n",
        "A = np.array ([[1,2,4],[2,3,6],[3,1,5]])\n",
        "B = np.array ([[1,4,6],[4,2,8],[6,2,4]])\n",
        "c = 2\n",
        "d = 4\n",
        "e = c +d\n",
        "F = e*A\n",
        "G = c*A\n",
        "H = d*A\n",
        "I = (c*A) + (d*A)\n",
        "print(I)"
      ],
      "metadata": {
        "colab": {
          "base_uri": "https://localhost:8080/"
        },
        "id": "keYW1HiiBPNe",
        "outputId": "5fe6af56-ecc1-479b-badb-294f79758eec"
      },
      "execution_count": null,
      "outputs": [
        {
          "output_type": "stream",
          "name": "stdout",
          "text": [
            "[[ 6 12 24]\n",
            " [12 18 36]\n",
            " [18  6 30]]\n"
          ]
        }
      ]
    },
    {
      "cell_type": "code",
      "source": [
        "import numpy as np\n",
        "A = np.array ([[1,2,4],[2,3,6],[3,1,5]])\n",
        "B = np.array ([[1,4,6],[4,2,8],[6,2,4]])\n",
        "F = (A * B)\n",
        "print(F)"
      ],
      "metadata": {
        "colab": {
          "base_uri": "https://localhost:8080/"
        },
        "id": "X9IybEilDDdL",
        "outputId": "c8f5447f-ecc7-4583-9773-5d1569f400b4"
      },
      "execution_count": null,
      "outputs": [
        {
          "output_type": "stream",
          "name": "stdout",
          "text": [
            "[[ 1  8 24]\n",
            " [ 8  6 48]\n",
            " [18  2 20]]\n"
          ]
        }
      ]
    },
    {
      "cell_type": "code",
      "source": [
        "C = np.array ([[2,3],[4,6],[4,2]])\n",
        "\n",
        "C_T = C.transpose()\n",
        "print(C)\n",
        "print('\\n')\n",
        "print(C_T)"
      ],
      "metadata": {
        "colab": {
          "base_uri": "https://localhost:8080/"
        },
        "id": "IJhXwvHXO3LE",
        "outputId": "a14a6d50-8518-41ad-aad1-cb67cfd66361"
      },
      "execution_count": null,
      "outputs": [
        {
          "output_type": "stream",
          "name": "stdout",
          "text": [
            "[[2 3]\n",
            " [4 6]\n",
            " [4 2]]\n",
            "\n",
            "\n",
            "[[2 4 4]\n",
            " [3 6 2]]\n"
          ]
        }
      ]
    },
    {
      "cell_type": "code",
      "source": [
        "import numpy as np\n",
        "A = np.array ([[1,2,4],[2,3,6],[3,1,5]])\n",
        "B = np.array ([[1,4,6],[4,2,8],[6,2,4]])\n",
        "D = np.array ([[2,4,5],[3,6,8],[5,4,9]])\n",
        "\n",
        "A_T = A.transpose()\n",
        "B_T = B.transpose()\n",
        "D_T = D.transpose()\n",
        "D = (A_T + B_T) * D_T\n",
        "print(D)\n",
        "\n"
      ],
      "metadata": {
        "colab": {
          "base_uri": "https://localhost:8080/"
        },
        "id": "C3aNuN8uO2hU",
        "outputId": "7a6b2d89-cd79-4c79-bf4f-23f4b73966c2"
      },
      "execution_count": null,
      "outputs": [
        {
          "output_type": "stream",
          "name": "stdout",
          "text": [
            "[[  4  18  45]\n",
            " [ 24  30  12]\n",
            " [ 50 112  81]]\n"
          ]
        }
      ]
    },
    {
      "cell_type": "code",
      "source": [
        "import numpy as np\n",
        "A = np.array ([[1,2,4],[2,3,6],[3,1,5]])\n",
        "B = np.array ([[1,4,6],[4,2,8],[6,2,4]])\n",
        "C = np.array ([[2,3],[4,6],[4,2]])\n",
        "D = np.array ([[2,4,5],[3,6,8],[5,4,9]])\n",
        "\n",
        "def aljabar(matrix):\n",
        "  matrix=[]\n",
        "  for i in matrix:\n",
        "    if A\n",
        "\n",
        "print(\"matrix 1:\")\n",
        "print(matrix1)\n"
      ],
      "metadata": {
        "colab": {
          "base_uri": "https://localhost:8080/"
        },
        "id": "Ia4y1CM41vce",
        "outputId": "c9db1b4b-039d-4336-b975-bb4b75b080f0"
      },
      "execution_count": 1,
      "outputs": [
        {
          "output_type": "stream",
          "name": "stdout",
          "text": [
            "matrix 1:\n",
            "[[33 16 38]\n",
            " [50 26 60]\n",
            " [37 24 46]]\n"
          ]
        }
      ]
    }
  ]
}